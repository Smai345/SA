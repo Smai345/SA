{
  "nbformat": 4,
  "nbformat_minor": 0,
  "metadata": {
    "colab": {
      "provenance": [],
      "authorship_tag": "ABX9TyNPUjMvy8ovYS3wlvoQG2QI",
      "include_colab_link": true
    },
    "kernelspec": {
      "name": "python3",
      "display_name": "Python 3"
    },
    "language_info": {
      "name": "python"
    }
  },
  "cells": [
    {
      "cell_type": "markdown",
      "metadata": {
        "id": "view-in-github",
        "colab_type": "text"
      },
      "source": [
        "<a href=\"https://colab.research.google.com/github/Smai345/SA/blob/main/SA_WEEK_4.ipynb\" target=\"_parent\"><img src=\"https://colab.research.google.com/assets/colab-badge.svg\" alt=\"Open In Colab\"/></a>"
      ]
    },
    {
      "cell_type": "code",
      "execution_count": null,
      "metadata": {
        "colab": {
          "base_uri": "https://localhost:8080/"
        },
        "id": "8IAWWa4tJ_z0",
        "outputId": "061f7f55-f40b-40fe-9f34-cc6f66c9ff37"
      },
      "outputs": [
        {
          "output_type": "stream",
          "name": "stdout",
          "text": [
            "              precision    recall  f1-score   support\n",
            "\n",
            "         0.0       0.89      0.97      0.93       340\n",
            "         1.0       0.48      0.20      0.28        51\n",
            "\n",
            "    accuracy                           0.87       391\n",
            "   macro avg       0.68      0.58      0.60       391\n",
            "weighted avg       0.84      0.87      0.84       391\n",
            "\n",
            "✅ Submission file saved as 'submission.csv'\n"
          ]
        }
      ],
      "source": [
        "# 1. Imports\n",
        "import pandas as pd\n",
        "from sklearn.model_selection import train_test_split\n",
        "from sklearn.impute import SimpleImputer\n",
        "from sklearn.ensemble import RandomForestClassifier\n",
        "from sklearn.metrics import classification_report\n",
        "\n",
        "# 2. Load data\n",
        "train_df = pd.read_csv(\"/content/Train_Data.csv\")\n",
        "test_df = pd.read_csv(\"/content/Test_Data.csv\")\n",
        "\n",
        "# 3. Drop ID column\n",
        "train_df = train_df.drop(columns=[\"SEQN\"])\n",
        "test_ids = test_df[\"SEQN\"]\n",
        "test_df = test_df.drop(columns=[\"SEQN\"])\n",
        "\n",
        "# 4. Encode target variable\n",
        "train_df[\"age_group\"] = train_df[\"age_group\"].map({\"Adult\": 0, \"Senior\": 1})\n",
        "\n",
        "# 5. Drop missing target rows\n",
        "train_df = train_df.dropna(subset=[\"age_group\"])\n",
        "\n",
        "# 6. Separate features and target\n",
        "X = train_df.drop(columns=[\"age_group\"])\n",
        "y = train_df[\"age_group\"]\n",
        "\n",
        "# 7. Impute missing values\n",
        "imputer = SimpleImputer(strategy=\"mean\")\n",
        "X_imputed = imputer.fit_transform(X)\n",
        "test_imputed = imputer.transform(test_df)\n",
        "\n",
        "# 8. Train-test split for validation\n",
        "X_train, X_val, y_train, y_val = train_test_split(X_imputed, y, test_size=0.2, random_state=42)\n",
        "\n",
        "# 9. Train balanced model\n",
        "model = RandomForestClassifier(random_state=42, class_weight='balanced')\n",
        "model.fit(X_train, y_train)\n",
        "\n",
        "# 10. Evaluate\n",
        "y_pred = model.predict(X_val)\n",
        "print(classification_report(y_val, y_pred))\n",
        "\n",
        "# 11. Predict test set\n",
        "test_pred = model.predict(test_imputed)\n",
        "\n",
        "# 12. Save submission\n",
        "submission = pd.DataFrame({\"age_group\": test_pred.astype(int)})\n",
        "submission.to_csv(\"submission.csv\", index=False)\n",
        "print(\"✅ Submission file saved as 'submission.csv'\")\n"
      ]
    },
    {
      "cell_type": "code",
      "source": [],
      "metadata": {
        "id": "ReSIXfBuKQJQ"
      },
      "execution_count": null,
      "outputs": []
    }
  ]
}